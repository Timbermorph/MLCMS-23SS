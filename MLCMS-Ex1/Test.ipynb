{
 "cells": [
  {
   "cell_type": "code",
   "execution_count": 4,
   "id": "fb67ffdf",
   "metadata": {
    "scrolled": true
   },
   "outputs": [
    {
     "name": "stdout",
     "output_type": "stream",
     "text": [
      "Loading file from C:/Users/Hao Chen/Desktop/GUI-1.2/json/scenario-7.json\n"
     ]
    }
   ],
   "source": [
    "from classes.gui import MainGUI\n",
    "\n",
    "\n",
    "if __name__ == '__main__':\n",
    "    gui = MainGUI()\n",
    "    gui.start_gui()\n"
   ]
  },
  {
   "cell_type": "code",
   "execution_count": null,
   "id": "a5c47aa5",
   "metadata": {},
   "outputs": [],
   "source": []
  },
  {
   "cell_type": "code",
   "execution_count": null,
   "id": "e854139f",
   "metadata": {},
   "outputs": [],
   "source": []
  }
 ],
 "metadata": {
  "kernelspec": {
   "display_name": "Python 3 (ipykernel)",
   "language": "python",
   "name": "python3"
  },
  "language_info": {
   "codemirror_mode": {
    "name": "ipython",
    "version": 3
   },
   "file_extension": ".py",
   "mimetype": "text/x-python",
   "name": "python",
   "nbconvert_exporter": "python",
   "pygments_lexer": "ipython3",
   "version": "3.9.12"
  }
 },
 "nbformat": 4,
 "nbformat_minor": 5
}
