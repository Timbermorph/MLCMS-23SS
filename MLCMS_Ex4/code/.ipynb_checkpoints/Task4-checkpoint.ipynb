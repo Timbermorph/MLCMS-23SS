{
 "cells": [
  {
   "cell_type": "markdown",
   "id": "bde3c268",
   "metadata": {},
   "source": [
    "# Task4"
   ]
  },
  {
   "cell_type": "code",
   "execution_count": 1,
   "id": "f5ad6f7d",
   "metadata": {},
   "outputs": [],
   "source": [
    "import numpy as np\n",
    "import matplotlib.pyplot as plt\n",
    "from scipy.interpolate import interp1d\n",
    "from scipy.integrate import solve_ivp\n",
    "from utils import logistic_map,bifurcation_diagram,plot_cobweb,lorenz_system"
   ]
  },
  {
   "cell_type": "markdown",
   "id": "60b3dac6",
   "metadata": {},
   "source": [
    "##  Part 1\n",
    "The logistic map is defined as $x_{n+1}=rx_n(1-x_n), n\\in \\mathbb{N}$, which is \n",
    "\n"
   ]
  },
  {
   "cell_type": "code",
   "execution_count": 2,
   "id": "5f37cc31",
   "metadata": {},
   "outputs": [
    {
     "ename": "NameError",
     "evalue": "name 'np' is not defined",
     "output_type": "error",
     "traceback": [
      "\u001b[1;31m---------------------------------------------------------------------------\u001b[0m",
      "\u001b[1;31mNameError\u001b[0m                                 Traceback (most recent call last)",
      "Input \u001b[1;32mIn [2]\u001b[0m, in \u001b[0;36m<cell line: 2>\u001b[1;34m()\u001b[0m\n\u001b[0;32m      1\u001b[0m \u001b[38;5;66;03m# Parameters\u001b[39;00m\n\u001b[1;32m----> 2\u001b[0m r_values \u001b[38;5;241m=\u001b[39m \u001b[43mnp\u001b[49m\u001b[38;5;241m.\u001b[39mlinspace(\u001b[38;5;241m0\u001b[39m, \u001b[38;5;241m4\u001b[39m, \u001b[38;5;241m1000\u001b[39m)  \u001b[38;5;66;03m# Range of parameter r\u001b[39;00m\n\u001b[0;32m      3\u001b[0m iterations \u001b[38;5;241m=\u001b[39m \u001b[38;5;241m1000\u001b[39m  \u001b[38;5;66;03m# Total iterations per r value\u001b[39;00m\n\u001b[0;32m      4\u001b[0m discard \u001b[38;5;241m=\u001b[39m \u001b[38;5;241m500\u001b[39m  \u001b[38;5;66;03m# Number of initial iterations to discard\u001b[39;00m\n",
      "\u001b[1;31mNameError\u001b[0m: name 'np' is not defined"
     ]
    }
   ],
   "source": [
    "# Parameters\n",
    "r_values = np.linspace(0, 4, 1000)  # Range of parameter r\n",
    "iterations = 1000  # Total iterations per r value\n",
    "discard = 500  # Number of initial iterations to discard\n",
    "\n",
    "# Generate bifurcation diagram\n",
    "steady_states, x_values = bifurcation_diagram(r_values, iterations, discard)\n",
    "\n",
    "# Plot bifurcation diagram\n",
    "plt.figure(figsize=(10, 6))\n",
    "for i, r in enumerate(r_values):\n",
    "    plt.scatter([r] * len(x_values[i]), x_values[i], s=0.1, c='k')\n",
    "\n",
    "plt.xlabel('r')\n",
    "plt.ylabel('x')\n",
    "plt.title('Bifurcation Diagram - Logistic Map')\n",
    "\n",
    "\n"
   ]
  },
  {
   "cell_type": "code",
   "execution_count": null,
   "id": "3c07d7cb",
   "metadata": {},
   "outputs": [],
   "source": [
    "#Plot Cobweb \n",
    "plot_cobweb(logistic_map, 0.9, 0.1, iterations)\n",
    "plot_cobweb(logistic_map, 1.9, 0.1, iterations)\n",
    "plot_cobweb(logistic_map, 2.5, 0.1, iterations)\n",
    "plot_cobweb(logistic_map, 3.8, 0.1, iterations)"
   ]
  },
  {
   "cell_type": "markdown",
   "id": "e9565629",
   "metadata": {},
   "source": [
    "# Part2"
   ]
  },
  {
   "cell_type": "markdown",
   "id": "7fbc8519",
   "metadata": {},
   "source": [
    "## Step 1: Visualize a single trajectory of the Lorenz system starting at x0 = (10, 10, 10) "
   ]
  },
  {
   "cell_type": "code",
   "execution_count": null,
   "id": "14becc04",
   "metadata": {},
   "outputs": [],
   "source": [
    "# Set parameter values and initial conditions\n",
    "sigma = 10\n",
    "beta = 8/3\n",
    "rho = 28\n",
    "x0 = np.array([10, 10, 10])\n",
    "\n",
    "# Solve the Lorenz system\n",
    "sol = solve_ivp(\n",
    "    fun=lambda t, xyz: lorenz_system(t, xyz, sigma, beta, rho),\n",
    "    t_span=[0, 1000],\n",
    "    y0=x0,\n",
    "    method='RK45'\n",
    ")\n",
    "\n",
    "# Plot the trajectory\n",
    "fig = plt.figure(figsize=(6, 6))\n",
    "ax = fig.add_subplot(111, projection='3d')\n",
    "ax.plot(sol.y[0], sol.y[1], sol.y[2], linewidth=0.7)\n",
    "ax.set_xlabel('X')\n",
    "ax.set_ylabel('Y')\n",
    "ax.set_zlabel('Z')\n",
    "ax.set_title('Lorenz System Trajectory')\n",
    "plt.show()\n"
   ]
  },
  {
   "cell_type": "markdown",
   "id": "9e09f5cc",
   "metadata": {},
   "source": [
    "## Step 2: Test the initial condition dependence by plotting another trajectory."
   ]
  },
  {
   "cell_type": "code",
   "execution_count": null,
   "id": "a38c31b7",
   "metadata": {},
   "outputs": [],
   "source": [
    "# Set a different initial condition\n",
    "x_hat_0 = np.array([10 + 1e-8, 10, 10])\n",
    "\n",
    "# Solve for the second trajectory\n",
    "sol_hat = solve_ivp(\n",
    "    fun=lambda t, xyz: lorenz_system(t, xyz, sigma, beta, rho),\n",
    "    t_span=[0, 1000],\n",
    "    y0=x_hat_0,\n",
    "    method='RK45'\n",
    ")\n",
    "\n",
    "# Plot the second trajectory\n",
    "fig = plt.figure(figsize=(6, 6))\n",
    "ax = fig.add_subplot(111, projection='3d')\n",
    "ax.plot(sol_hat.y[0], sol_hat.y[1], sol_hat.y[2], linewidth=0.7)\n",
    "ax.set_xlabel('X')\n",
    "ax.set_ylabel('Y')\n",
    "ax.set_zlabel('Z')\n",
    "ax.set_title('Second Trajectory with Slightly Different Initial Condition')\n",
    "plt.show()\n"
   ]
  },
  {
   "cell_type": "markdown",
   "id": "2c34956e",
   "metadata": {},
   "source": [
    "## Step 3: Determine the time at which the difference between the points on the trajectory exceeds 1."
   ]
  },
  {
   "cell_type": "code",
   "execution_count": null,
   "id": "1f443de4",
   "metadata": {},
   "outputs": [],
   "source": [
    "# Synchronize the time steps\n",
    "min_len = min(sol.y.shape[1], sol_hat.y.shape[1])\n",
    "sol.y = sol.y[:, :min_len]\n",
    "sol_hat.y = sol_hat.y[:, :min_len]\n",
    "\n",
    "# Compute the difference between the trajectories\n",
    "diff = [np.linalg.norm(sol.y[:, t] - sol_hat.y[:, t]) ** 2 for t in range(len(sol.y[0]))]\n",
    "time = np.linspace(0, 1000, len(diff))\n",
    "\n",
    "# Plotting the difference between trajectories\n",
    "plt.plot(time, diff)\n",
    "plt.xlabel(\"Time\")\n",
    "plt.ylabel(\"Difference\")\n",
    "plt.title(\"Difference between Trajectories\")\n",
    "plt.show()\n",
    "\n",
    "# Zoomed-in plot of the difference between trajectories\n",
    "plt.plot(time, diff)\n",
    "plt.xlim(0, 30)\n",
    "plt.ylim(0, 1.5)\n",
    "plt.xlabel(\"Time\")\n",
    "plt.ylabel(\"Difference\")\n",
    "plt.title(\"Zoomed-in Difference between Trajectories\")\n",
    "plt.show()\n",
    "\n",
    "# Find the time when the difference exceeds 1\n",
    "step = next((i for i, d in enumerate(diff) if d > 1), None)\n",
    "if step is not None:\n",
    "    time_exceed = time[step]\n",
    "    print(f\"The difference becomes greater than 1 at t = {time_exceed} seconds\")\n",
    "else:\n",
    "    print(\"The difference does not exceed 1 within the given time\")"
   ]
  },
  {
   "cell_type": "markdown",
   "id": "abf95e9b",
   "metadata": {},
   "source": [
    "## Step 4: Change ρ to 0.5 and compute and plot the two trajectories. Determine if there is a bifurcation."
   ]
  },
  {
   "cell_type": "code",
   "execution_count": null,
   "id": "90b00082",
   "metadata": {},
   "outputs": [],
   "source": [
    "# Update the value of ρ\n",
    "rho_new = 0.5\n",
    "\n",
    "# Solve the Lorenz system with the new ρ value\n",
    "sol_new = solve_ivp(\n",
    "    fun=lambda t, xyz: lorenz_system(t, xyz, sigma, beta, rho_new),\n",
    "    t_span=[0, 1000],\n",
    "    y0=x0,\n",
    "    method='RK45'\n",
    ")\n",
    "\n",
    "sol_hat_new = solve_ivp(\n",
    "    fun=lambda t, xyz: lorenz_system(t, xyz, sigma, beta, rho_new),\n",
    "    t_span=[0, 1000],\n",
    "    y0=x_hat_0,\n",
    "    method='RK45'\n",
    ")\n",
    "\n",
    "# Plot the trajectories\n",
    "fig = plt.figure(figsize=(12, 6))\n",
    "ax1 = fig.add_subplot(121, projection='3d')\n",
    "ax1.plot(sol_new.y[0], sol_new.y[1], sol_new.y[2], linewidth=0.7)\n",
    "ax1.set_xlabel('X')\n",
    "ax1.set_ylabel('Y')\n",
    "ax1.set_zlabel('Z')\n",
    "ax1.set_title('Lorenz System Trajectory (ρ = 0.5)')\n",
    "\n",
    "ax2 = fig.add_subplot(122, projection='3d')\n",
    "ax2.plot(sol_hat_new.y[0], sol_hat_new.y[1], sol_hat_new.y[2], linewidth=0.7)\n",
    "ax2.set_xlabel('X')\n",
    "ax2.set_ylabel('Y')\n",
    "ax2.set_zlabel('Z')\n",
    "ax2.set_title('Second Trajectory (ρ = 0.5) with Slightly Different Initial Condition')\n",
    "\n",
    "plt.tight_layout()\n",
    "plt.show()\n"
   ]
  }
 ],
 "metadata": {
  "kernelspec": {
   "display_name": "Python 3 (ipykernel)",
   "language": "python",
   "name": "python3"
  },
  "language_info": {
   "codemirror_mode": {
    "name": "ipython",
    "version": 3
   },
   "file_extension": ".py",
   "mimetype": "text/x-python",
   "name": "python",
   "nbconvert_exporter": "python",
   "pygments_lexer": "ipython3",
   "version": "3.9.12"
  }
 },
 "nbformat": 4,
 "nbformat_minor": 5
}
